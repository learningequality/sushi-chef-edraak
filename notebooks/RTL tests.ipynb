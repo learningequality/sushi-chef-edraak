{
 "cells": [
  {
   "cell_type": "code",
   "execution_count": 1,
   "metadata": {},
   "outputs": [],
   "source": []
  },
  {
   "cell_type": "code",
   "execution_count": 2,
   "metadata": {},
   "outputs": [],
   "source": [
    "from bs4 import BeautifulSoup"
   ]
  },
  {
   "cell_type": "code",
   "execution_count": 15,
   "metadata": {},
   "outputs": [
    {
     "data": {
      "text/plain": [
       "<p class=\"Normal1\" dir=\"rtl\" style=\"line-height: normal; direction: rtl; unicode-bidi: embed; text-align: right;\"><span style=\"color: #000000; font-family: 'Droid Arabic Naskh'; font-size: 12pt;\"><span lang=\"AR-SA\">نظم العدد داخل جدول المنازل </span><span lang=\"AR-SA\">(</span><span lang=\"AR-SA\">الخانات</span><span lang=\"AR-SA\">) </span><span lang=\"AR-SA\">العددية</span></span></p>"
      ]
     },
     "execution_count": 15,
     "metadata": {},
     "output_type": "execute_result"
    }
   ],
   "source": [
    "html = \"<p class=\\\"Normal1\\\" dir=\\\"rtl\\\" style=\\\"line-height: normal; direction: rtl; unicode-bidi: embed; text-align: right;\\\"><span style=\\\"color: #000000; font-family: 'Droid Arabic Naskh'; font-size: 12pt;\\\"><span lang=\\\"AR-SA\\\">نظم العدد داخل جدول المنازل </span><span lang=\\\"AR-SA\\\">(</span><span lang=\\\"AR-SA\\\">الخانات</span><span lang=\\\"AR-SA\\\">) </span><span lang=\\\"AR-SA\\\">العددية</span></span></p>\\n<div dir=\\\"rtl\\\" style=\\\"text-align: right;\\\" align=\\\"right\\\">\\n<table class=\\\"MsoTableGrid\\\" dir=\\\"rtl\\\" style=\\\"border: none; width: 700px;\\\" border=\\\"1\\\" cellspacing=\\\"0\\\" cellpadding=\\\"0\\\">\\n<tbody>\\n<tr>\\n<td style=\\\"width: 50px; border: 1pt solid black; padding: 0in 5.4pt;\\\" valign=\\\"top\\\">\\n<p class=\\\"Normal1\\\" dir=\\\"RTL\\\" style=\\\"text-align: justify; line-height: normal; mso-pagination: none; direction: rtl; unicode-bidi: embed; border: none; mso-padding-alt: 0in 0in 0in 0in;\\\"><span lang=\\\"AR-SA\\\" style=\\\"font-family: 'Droid Arabic Naskh'; color: #000000; font-size: 12pt;\\\">آحاد</span></p>\\n</td>\\n<td style=\\\"width: 54px; border-top: 1pt solid black; border-bottom: 1pt solid black; border-left: 1pt solid black; border-image: initial; border-right: none; padding: 0in 5.4pt;\\\" valign=\\\"top\\\">\\n<p class=\\\"Normal1\\\" dir=\\\"RTL\\\" style=\\\"text-align: justify; line-height: normal; mso-pagination: none; direction: rtl; unicode-bidi: embed; border: none; mso-padding-alt: 0in 0in 0in 0in;\\\"><span lang=\\\"AR-SA\\\" style=\\\"font-family: 'Droid Arabic Naskh'; color: #000000; font-size: 12pt;\\\">عشرات</span></p>\\n</td>\\n<td style=\\\"width: 50px; border-top: 1pt solid black; border-bottom: 1pt solid black; border-left: 1pt solid black; border-image: initial; border-right: none; padding: 0in 5.4pt;\\\" valign=\\\"top\\\">\\n<p class=\\\"Normal1\\\" dir=\\\"RTL\\\" style=\\\"text-align: justify; line-height: normal; mso-pagination: none; direction: rtl; unicode-bidi: embed; border: none; mso-padding-alt: 0in 0in 0in 0in;\\\"><span lang=\\\"AR-SA\\\" style=\\\"font-family: 'Droid Arabic Naskh'; color: #000000; font-size: 12pt;\\\">مئات</span></p>\\n</td>\\n<td style=\\\"width: 64px; border-top: 1pt solid black; border-bottom: 1pt solid black; border-left: 1pt solid black; border-image: initial; border-right: none; padding: 0in 5.4pt;\\\" valign=\\\"top\\\">\\n<p class=\\\"Normal1\\\" dir=\\\"RTL\\\" style=\\\"text-align: justify; line-height: normal; mso-pagination: none; direction: rtl; unicode-bidi: embed; border: none; mso-padding-alt: 0in 0in 0in 0in;\\\"><span lang=\\\"AR-SA\\\" style=\\\"font-family: 'Droid Arabic Naskh'; color: #000000; font-size: 12pt;\\\">آحاد الألوف</span></p>\\n</td>\\n<td style=\\\"width: 48.6215px; border-top: 1pt solid black; border-bottom: 1pt solid black; border-left: 1pt solid black; border-image: initial; border-right: none; padding: 0in 5.4pt;\\\" valign=\\\"top\\\">\\n<p class=\\\"Normal1\\\" dir=\\\"RTL\\\" style=\\\"text-align: justify; line-height: normal; mso-pagination: none; direction: rtl; unicode-bidi: embed; border: none; mso-padding-alt: 0in 0in 0in 0in;\\\"><span lang=\\\"AR-SA\\\" style=\\\"font-family: 'Droid Arabic Naskh'; color: #000000; font-size: 12pt;\\\">عشرات الألوف</span></p>\\n</td>\\n<td style=\\\"width: 68.3785px; border-top: 1pt solid black; border-bottom: 1pt solid black; border-left: 1pt solid black; border-image: initial; border-right: none; padding: 0in 5.4pt;\\\" valign=\\\"top\\\">\\n<p class=\\\"Normal1\\\" dir=\\\"RTL\\\" style=\\\"text-align: justify; line-height: normal; mso-pagination: none; direction: rtl; unicode-bidi: embed; border: none; mso-padding-alt: 0in 0in 0in 0in;\\\"><span lang=\\\"AR-SA\\\" style=\\\"font-family: 'Droid Arabic Naskh'; color: #000000; font-size: 12pt;\\\">مئات الألوف</span></p>\\n</td>\\n<td style=\\\"width: 59px; border-top: 1pt solid black; border-bottom: 1pt solid black; border-left: 1pt solid black; border-image: initial; border-right: none; padding: 0in 5.4pt;\\\" valign=\\\"top\\\">\\n<p class=\\\"Normal1\\\" dir=\\\"RTL\\\" style=\\\"text-align: justify; line-height: normal; mso-pagination: none; direction: rtl; unicode-bidi: embed; border: none; mso-padding-alt: 0in 0in 0in 0in;\\\"><span lang=\\\"AR-SA\\\" style=\\\"font-family: 'Droid Arabic Naskh'; color: #000000; font-size: 12pt;\\\">آحاد الملايين</span></p>\\n</td>\\n<td style=\\\"width: 39px; border-top: 1pt solid black; border-bottom: 1pt solid black; border-left: 1pt solid black; border-image: initial; border-right: none; padding: 0in 5.4pt;\\\" valign=\\\"top\\\">\\n<p class=\\\"Normal1\\\" dir=\\\"RTL\\\" style=\\\"text-align: justify; line-height: normal; mso-pagination: none; direction: rtl; unicode-bidi: embed; border: none; mso-padding-alt: 0in 0in 0in 0in;\\\"><span lang=\\\"AR-SA\\\" style=\\\"font-family: 'Droid Arabic Naskh'; color: #000000; font-size: 12pt;\\\">عشرات الملايين</span></p>\\n</td>\\n<td style=\\\"width: 60px; border-top: 1pt solid black; border-bottom: 1pt solid black; border-left: 1pt solid black; border-image: initial; border-right: none; padding: 0in 5.4pt;\\\" valign=\\\"top\\\">\\n<p class=\\\"Normal1\\\" dir=\\\"RTL\\\" style=\\\"text-align: justify; line-height: normal; mso-pagination: none; direction: rtl; unicode-bidi: embed; border: none; mso-padding-alt: 0in 0in 0in 0in;\\\"><span lang=\\\"AR-SA\\\" style=\\\"font-family: 'Droid Arabic Naskh'; color: #000000; font-size: 12pt;\\\">مئات الملايين</span></p>\\n</td>\\n<td style=\\\"width: 45px; border-top: 1pt solid black; border-bottom: 1pt solid black; border-left: 1pt solid black; border-image: initial; border-right: none; padding: 0in 5.4pt;\\\" valign=\\\"top\\\">\\n<p class=\\\"Normal1\\\" dir=\\\"RTL\\\" style=\\\"text-align: justify; line-height: normal; mso-pagination: none; direction: rtl; unicode-bidi: embed; border: none; mso-padding-alt: 0in 0in 0in 0in;\\\"><span lang=\\\"AR-SA\\\" style=\\\"font-size: 12pt; font-family: 'Droid Arabic Naskh'; color: #000000;\\\">آحاد المليارات</span></p>\\n</td>\\n<td style=\\\"width: 63px; border-top: 1pt solid black; border-bottom: 1pt solid black; border-left: 1pt solid black; border-image: initial; border-right: none; padding: 0in 5.4pt;\\\" valign=\\\"top\\\">\\n<p class=\\\"Normal1\\\" dir=\\\"RTL\\\" style=\\\"text-align: justify; line-height: normal; mso-pagination: none; direction: rtl; unicode-bidi: embed; border: none; mso-padding-alt: 0in 0in 0in 0in;\\\"><span lang=\\\"AR-SA\\\" style=\\\"font-size: 12pt; font-family: 'Droid Arabic Naskh'; color: #000000;\\\">عشرات المليارات</span></p>\\n</td>\\n<td style=\\\"width: 92px; border-top: 1pt solid black; border-bottom: 1pt solid black; border-left: 1pt solid black; border-image: initial; border-right: none; padding: 0in 5.4pt;\\\" valign=\\\"top\\\">\\n<p class=\\\"Normal1\\\" dir=\\\"RTL\\\" style=\\\"text-align: justify; line-height: normal; mso-pagination: none; direction: rtl; unicode-bidi: embed; border: none; mso-padding-alt: 0in 0in 0in 0in;\\\"><span lang=\\\"AR-SA\\\" style=\\\"font-size: 12pt; font-family: 'Droid Arabic Naskh'; color: #000000;\\\">مئات المليارات</span></p>\\n</td>\\n</tr>\\n<tr>\\n<td style=\\\"width: 50px; border-right: 1pt solid black; border-bottom: 1pt solid black; border-left: 1pt solid black; border-image: initial; border-top: none; padding: 0in 5.4pt;\\\" valign=\\\"top\\\">\\n<p class=\\\"Normal1\\\" dir=\\\"RTL\\\" style=\\\"text-align: justify; line-height: normal; mso-pagination: none; direction: rtl; unicode-bidi: embed; border: none; mso-padding-alt: 0in 0in 0in 0in;\\\"><span lang=\\\"AR-SA\\\" style=\\\"font-family: 'Droid Arabic Naskh'; color: #000000; font-size: 12pt;\\\">٦</span></p>\\n</td>\\n<td style=\\\"width: 54px; border-top: none; border-left: 1pt solid black; border-bottom: 1pt solid black; border-right: none; padding: 0in 5.4pt;\\\" valign=\\\"top\\\">\\n<p class=\\\"Normal1\\\" dir=\\\"RTL\\\" style=\\\"text-align: justify; line-height: normal; mso-pagination: none; direction: rtl; unicode-bidi: embed; border: none; mso-padding-alt: 0in 0in 0in 0in;\\\"><span lang=\\\"AR-SA\\\" style=\\\"font-family: 'Droid Arabic Naskh'; color: #000000; font-size: 12pt;\\\">٤</span></p>\\n</td>\\n<td style=\\\"width: 50px; border-top: none; border-left: 1pt solid black; border-bottom: 1pt solid black; border-right: none; padding: 0in 5.4pt;\\\" valign=\\\"top\\\">\\n<p class=\\\"Normal1\\\" dir=\\\"RTL\\\" style=\\\"text-align: justify; line-height: normal; mso-pagination: none; direction: rtl; unicode-bidi: embed; border: none; mso-padding-alt: 0in 0in 0in 0in;\\\"><span lang=\\\"AR-SA\\\" style=\\\"font-family: 'Droid Arabic Naskh'; color: #000000; font-size: 12pt;\\\">٧</span></p>\\n</td>\\n<td style=\\\"width: 64px; border-top: none; border-left: 1pt solid black; border-bottom: 1pt solid black; border-right: none; padding: 0in 5.4pt;\\\" valign=\\\"top\\\">\\n<p class=\\\"Normal1\\\" dir=\\\"RTL\\\" style=\\\"text-align: justify; line-height: normal; mso-pagination: none; direction: rtl; unicode-bidi: embed; border: none; mso-padding-alt: 0in 0in 0in 0in;\\\"><span lang=\\\"AR-SA\\\" style=\\\"font-family: 'Droid Arabic Naskh'; color: #000000; font-size: 12pt;\\\">٨</span></p>\\n</td>\\n<td style=\\\"width: 48.6215px; border-top: none; border-left: 1pt solid black; border-bottom: 1pt solid black; border-right: none; padding: 0in 5.4pt;\\\" valign=\\\"top\\\">\\n<p class=\\\"Normal1\\\" dir=\\\"RTL\\\" style=\\\"text-align: justify; line-height: normal; mso-pagination: none; direction: rtl; unicode-bidi: embed; border: none; mso-padding-alt: 0in 0in 0in 0in;\\\"><span lang=\\\"AR-SA\\\" style=\\\"font-family: 'Droid Arabic Naskh'; color: #000000; font-size: 12pt;\\\">٠</span></p>\\n</td>\\n<td style=\\\"width: 68.3785px; border-top: none; border-left: 1pt solid black; border-bottom: 1pt solid black; border-right: none; padding: 0in 5.4pt;\\\" valign=\\\"top\\\">\\n<p class=\\\"Normal1\\\" dir=\\\"RTL\\\" style=\\\"text-align: justify; line-height: normal; mso-pagination: none; direction: rtl; unicode-bidi: embed; border: none; mso-padding-alt: 0in 0in 0in 0in;\\\"><span lang=\\\"AR-SA\\\" style=\\\"font-family: 'Droid Arabic Naskh'; color: #000000; font-size: 12pt;\\\">١</span></p>\\n</td>\\n<td style=\\\"width: 59px; border-top: none; border-left: 1pt solid black; border-bottom: 1pt solid black; border-right: none; padding: 0in 5.4pt;\\\" valign=\\\"top\\\">\\n<p class=\\\"Normal1\\\" dir=\\\"RTL\\\" style=\\\"text-align: justify; line-height: normal; mso-pagination: none; direction: rtl; unicode-bidi: embed; border: none; mso-padding-alt: 0in 0in 0in 0in;\\\"><span lang=\\\"AR-SA\\\" style=\\\"font-family: 'Droid Arabic Naskh'; color: #000000; font-size: 12pt;\\\">٥</span></p>\\n</td>\\n<td style=\\\"width: 39px; border-top: none; border-left: 1pt solid black; border-bottom: 1pt solid black; border-right: none; padding: 0in 5.4pt;\\\" valign=\\\"top\\\">\\n<p class=\\\"Normal1\\\" dir=\\\"RTL\\\" style=\\\"text-align: justify; line-height: normal; mso-pagination: none; direction: rtl; unicode-bidi: embed; border: none; mso-padding-alt: 0in 0in 0in 0in;\\\"><span lang=\\\"AR-SA\\\" style=\\\"font-family: 'Droid Arabic Naskh'; color: #000000; font-size: 12pt;\\\">٤</span></p>\\n</td>\\n<td style=\\\"width: 60px; border-top: none; border-left: 1pt solid black; border-bottom: 1pt solid black; border-right: none; padding: 0in 5.4pt;\\\" valign=\\\"top\\\">\\n<p class=\\\"Normal1\\\" dir=\\\"RTL\\\" style=\\\"text-align: justify; line-height: normal; mso-pagination: none; direction: rtl; unicode-bidi: embed; border: none; mso-padding-alt: 0in 0in 0in 0in;\\\"><span lang=\\\"AR-SA\\\" style=\\\"font-family: 'Droid Arabic Naskh'; color: #000000; font-size: 12pt;\\\">٧</span></p>\\n</td>\\n<td style=\\\"width: 45px; border-top: none; border-left: 1pt solid black; border-bottom: 1pt solid black; border-right: none; padding: 0in 5.4pt;\\\" valign=\\\"top\\\">\\n<p class=\\\"Normal1\\\" dir=\\\"RTL\\\" style=\\\"text-align: justify; line-height: normal; mso-pagination: none; direction: rtl; unicode-bidi: embed; border: none; mso-padding-alt: 0in 0in 0in 0in;\\\"><span lang=\\\"AR-SA\\\" style=\\\"font-family: 'Droid Arabic Naskh'; color: #000000; font-size: 12pt;\\\">٨</span></p>\\n</td>\\n<td style=\\\"width: 63px; border-top: none; border-left: 1pt solid black; border-bottom: 1pt solid black; border-right: none; padding: 0in 5.4pt;\\\" valign=\\\"top\\\">\\n<p class=\\\"Normal1\\\" dir=\\\"RTL\\\" style=\\\"text-align: justify; line-height: normal; mso-pagination: none; direction: rtl; unicode-bidi: embed; border: none; mso-padding-alt: 0in 0in 0in 0in;\\\"><span lang=\\\"AR-SA\\\" style=\\\"font-family: 'Droid Arabic Naskh'; color: #000000; font-size: 12pt;\\\">&nbsp;</span></p>\\n</td>\\n<td style=\\\"width: 92px; border-top: none; border-left: 1pt solid black; border-bottom: 1pt solid black; border-right: none; padding: 0in 5.4pt;\\\" valign=\\\"top\\\">\\n<p class=\\\"Normal1\\\" dir=\\\"RTL\\\" style=\\\"text-align: justify; line-height: normal; mso-pagination: none; direction: rtl; unicode-bidi: embed; border: none; mso-padding-alt: 0in 0in 0in 0in;\\\"><span lang=\\\"AR-SA\\\" style=\\\"font-family: 'Droid Arabic Naskh'; color: #000000; font-size: 12pt;\\\">&nbsp;</span></p>\\n</td>\\n</tr>\\n</tbody>\\n</table>\\n</div>\\n<p class=\\\"Normal1\\\" dir=\\\"rtl\\\" style=\\\"line-height: normal; direction: rtl; unicode-bidi: embed; text-align: right;\\\"><span style=\\\"color: #000000; font-family: 'Droid Arabic Naskh'; font-size: 12pt;\\\"><span lang=\\\"AR-SA\\\"><br /><br />اكتب العدد بالطريقة التحليلية كما يلي</span><span lang=\\\"AR-SA\\\">:<br /><br /></span></span><span style=\\\"color: #000000; font-family: 'Droid Arabic Naskh'; font-size: 12pt;\\\">٦ + ٤٠ + ٧٠٠ + ٨٠٠٠ + ١٠٠٠٠٠ + ٥٠٠٠٠٠٠ + ٤٠٠٠٠٠٠٠ + ٧٠٠٠٠٠٠٠٠ + ٨٠٠٠٠٠٠٠٠٠<br /><br /></span><span style=\\\"color: #000000; font-family: 'Droid Arabic Naskh'; font-size: 12pt;\\\">ثمانية مليارات وسبعمائة وخمس وأربعون مليون ومئة وثمانية آلاف وسبعمائة وستة وأربعون.</span></p>\"\n",
    "\n",
    "page = BeautifulSoup(html, \"html5lib\")\n",
    "\n",
    "def get_snippet(page):\n",
    "    if page.body:\n",
    "        return page.body.next\n",
    "    elif page.html:\n",
    "        return page.html.next\n",
    "    else:\n",
    "        return page\n",
    "\n",
    "snip = get_snippet(page)\n",
    "snip\n",
    "\n"
   ]
  },
  {
   "cell_type": "code",
   "execution_count": 14,
   "metadata": {},
   "outputs": [
    {
     "data": {
      "text/plain": [
       "'نظم العدد داخل جدول المنازل (الخانات) العددية'"
      ]
     },
     "execution_count": 14,
     "metadata": {},
     "output_type": "execute_result"
    }
   ],
   "source": [
    "snip.text"
   ]
  },
  {
   "cell_type": "code",
   "execution_count": 10,
   "metadata": {},
   "outputs": [
    {
     "data": {
      "text/plain": [
       "<html><head></head><body><p class=\"Normal1\" dir=\"rtl\" style=\"line-height: normal; direction: rtl; unicode-bidi: embed; text-align: right;\"><span style=\"color: #000000; font-family: 'Droid Arabic Naskh'; font-size: 12pt;\"><span lang=\"AR-SA\">نظم العدد داخل جدول المنازل </span><span lang=\"AR-SA\">(</span><span lang=\"AR-SA\">الخانات</span><span lang=\"AR-SA\">) </span><span lang=\"AR-SA\">العددية</span></span></p>\n",
       "<div align=\"right\" dir=\"rtl\" style=\"text-align: right;\">\n",
       "<table border=\"1\" cellpadding=\"0\" cellspacing=\"0\" class=\"MsoTableGrid\" dir=\"rtl\" style=\"border: none; width: 700px;\">\n",
       "<tbody>\n",
       "<tr>\n",
       "<td style=\"width: 50px; border: 1pt solid black; padding: 0in 5.4pt;\" valign=\"top\">\n",
       "<p class=\"Normal1\" dir=\"RTL\" style=\"text-align: justify; line-height: normal; mso-pagination: none; direction: rtl; unicode-bidi: embed; border: none; mso-padding-alt: 0in 0in 0in 0in;\"><span lang=\"AR-SA\" style=\"font-family: 'Droid Arabic Naskh'; color: #000000; font-size: 12pt;\">آحاد</span></p>\n",
       "</td>\n",
       "<td style=\"width: 54px; border-top: 1pt solid black; border-bottom: 1pt solid black; border-left: 1pt solid black; border-image: initial; border-right: none; padding: 0in 5.4pt;\" valign=\"top\">\n",
       "<p class=\"Normal1\" dir=\"RTL\" style=\"text-align: justify; line-height: normal; mso-pagination: none; direction: rtl; unicode-bidi: embed; border: none; mso-padding-alt: 0in 0in 0in 0in;\"><span lang=\"AR-SA\" style=\"font-family: 'Droid Arabic Naskh'; color: #000000; font-size: 12pt;\">عشرات</span></p>\n",
       "</td>\n",
       "<td style=\"width: 50px; border-top: 1pt solid black; border-bottom: 1pt solid black; border-left: 1pt solid black; border-image: initial; border-right: none; padding: 0in 5.4pt;\" valign=\"top\">\n",
       "<p class=\"Normal1\" dir=\"RTL\" style=\"text-align: justify; line-height: normal; mso-pagination: none; direction: rtl; unicode-bidi: embed; border: none; mso-padding-alt: 0in 0in 0in 0in;\"><span lang=\"AR-SA\" style=\"font-family: 'Droid Arabic Naskh'; color: #000000; font-size: 12pt;\">مئات</span></p>\n",
       "</td>\n",
       "<td style=\"width: 64px; border-top: 1pt solid black; border-bottom: 1pt solid black; border-left: 1pt solid black; border-image: initial; border-right: none; padding: 0in 5.4pt;\" valign=\"top\">\n",
       "<p class=\"Normal1\" dir=\"RTL\" style=\"text-align: justify; line-height: normal; mso-pagination: none; direction: rtl; unicode-bidi: embed; border: none; mso-padding-alt: 0in 0in 0in 0in;\"><span lang=\"AR-SA\" style=\"font-family: 'Droid Arabic Naskh'; color: #000000; font-size: 12pt;\">آحاد الألوف</span></p>\n",
       "</td>\n",
       "<td style=\"width: 48.6215px; border-top: 1pt solid black; border-bottom: 1pt solid black; border-left: 1pt solid black; border-image: initial; border-right: none; padding: 0in 5.4pt;\" valign=\"top\">\n",
       "<p class=\"Normal1\" dir=\"RTL\" style=\"text-align: justify; line-height: normal; mso-pagination: none; direction: rtl; unicode-bidi: embed; border: none; mso-padding-alt: 0in 0in 0in 0in;\"><span lang=\"AR-SA\" style=\"font-family: 'Droid Arabic Naskh'; color: #000000; font-size: 12pt;\">عشرات الألوف</span></p>\n",
       "</td>\n",
       "<td style=\"width: 68.3785px; border-top: 1pt solid black; border-bottom: 1pt solid black; border-left: 1pt solid black; border-image: initial; border-right: none; padding: 0in 5.4pt;\" valign=\"top\">\n",
       "<p class=\"Normal1\" dir=\"RTL\" style=\"text-align: justify; line-height: normal; mso-pagination: none; direction: rtl; unicode-bidi: embed; border: none; mso-padding-alt: 0in 0in 0in 0in;\"><span lang=\"AR-SA\" style=\"font-family: 'Droid Arabic Naskh'; color: #000000; font-size: 12pt;\">مئات الألوف</span></p>\n",
       "</td>\n",
       "<td style=\"width: 59px; border-top: 1pt solid black; border-bottom: 1pt solid black; border-left: 1pt solid black; border-image: initial; border-right: none; padding: 0in 5.4pt;\" valign=\"top\">\n",
       "<p class=\"Normal1\" dir=\"RTL\" style=\"text-align: justify; line-height: normal; mso-pagination: none; direction: rtl; unicode-bidi: embed; border: none; mso-padding-alt: 0in 0in 0in 0in;\"><span lang=\"AR-SA\" style=\"font-family: 'Droid Arabic Naskh'; color: #000000; font-size: 12pt;\">آحاد الملايين</span></p>\n",
       "</td>\n",
       "<td style=\"width: 39px; border-top: 1pt solid black; border-bottom: 1pt solid black; border-left: 1pt solid black; border-image: initial; border-right: none; padding: 0in 5.4pt;\" valign=\"top\">\n",
       "<p class=\"Normal1\" dir=\"RTL\" style=\"text-align: justify; line-height: normal; mso-pagination: none; direction: rtl; unicode-bidi: embed; border: none; mso-padding-alt: 0in 0in 0in 0in;\"><span lang=\"AR-SA\" style=\"font-family: 'Droid Arabic Naskh'; color: #000000; font-size: 12pt;\">عشرات الملايين</span></p>\n",
       "</td>\n",
       "<td style=\"width: 60px; border-top: 1pt solid black; border-bottom: 1pt solid black; border-left: 1pt solid black; border-image: initial; border-right: none; padding: 0in 5.4pt;\" valign=\"top\">\n",
       "<p class=\"Normal1\" dir=\"RTL\" style=\"text-align: justify; line-height: normal; mso-pagination: none; direction: rtl; unicode-bidi: embed; border: none; mso-padding-alt: 0in 0in 0in 0in;\"><span lang=\"AR-SA\" style=\"font-family: 'Droid Arabic Naskh'; color: #000000; font-size: 12pt;\">مئات الملايين</span></p>\n",
       "</td>\n",
       "<td style=\"width: 45px; border-top: 1pt solid black; border-bottom: 1pt solid black; border-left: 1pt solid black; border-image: initial; border-right: none; padding: 0in 5.4pt;\" valign=\"top\">\n",
       "<p class=\"Normal1\" dir=\"RTL\" style=\"text-align: justify; line-height: normal; mso-pagination: none; direction: rtl; unicode-bidi: embed; border: none; mso-padding-alt: 0in 0in 0in 0in;\"><span lang=\"AR-SA\" style=\"font-size: 12pt; font-family: 'Droid Arabic Naskh'; color: #000000;\">آحاد المليارات</span></p>\n",
       "</td>\n",
       "<td style=\"width: 63px; border-top: 1pt solid black; border-bottom: 1pt solid black; border-left: 1pt solid black; border-image: initial; border-right: none; padding: 0in 5.4pt;\" valign=\"top\">\n",
       "<p class=\"Normal1\" dir=\"RTL\" style=\"text-align: justify; line-height: normal; mso-pagination: none; direction: rtl; unicode-bidi: embed; border: none; mso-padding-alt: 0in 0in 0in 0in;\"><span lang=\"AR-SA\" style=\"font-size: 12pt; font-family: 'Droid Arabic Naskh'; color: #000000;\">عشرات المليارات</span></p>\n",
       "</td>\n",
       "<td style=\"width: 92px; border-top: 1pt solid black; border-bottom: 1pt solid black; border-left: 1pt solid black; border-image: initial; border-right: none; padding: 0in 5.4pt;\" valign=\"top\">\n",
       "<p class=\"Normal1\" dir=\"RTL\" style=\"text-align: justify; line-height: normal; mso-pagination: none; direction: rtl; unicode-bidi: embed; border: none; mso-padding-alt: 0in 0in 0in 0in;\"><span lang=\"AR-SA\" style=\"font-size: 12pt; font-family: 'Droid Arabic Naskh'; color: #000000;\">مئات المليارات</span></p>\n",
       "</td>\n",
       "</tr>\n",
       "<tr>\n",
       "<td style=\"width: 50px; border-right: 1pt solid black; border-bottom: 1pt solid black; border-left: 1pt solid black; border-image: initial; border-top: none; padding: 0in 5.4pt;\" valign=\"top\">\n",
       "<p class=\"Normal1\" dir=\"RTL\" style=\"text-align: justify; line-height: normal; mso-pagination: none; direction: rtl; unicode-bidi: embed; border: none; mso-padding-alt: 0in 0in 0in 0in;\"><span lang=\"AR-SA\" style=\"font-family: 'Droid Arabic Naskh'; color: #000000; font-size: 12pt;\">٦</span></p>\n",
       "</td>\n",
       "<td style=\"width: 54px; border-top: none; border-left: 1pt solid black; border-bottom: 1pt solid black; border-right: none; padding: 0in 5.4pt;\" valign=\"top\">\n",
       "<p class=\"Normal1\" dir=\"RTL\" style=\"text-align: justify; line-height: normal; mso-pagination: none; direction: rtl; unicode-bidi: embed; border: none; mso-padding-alt: 0in 0in 0in 0in;\"><span lang=\"AR-SA\" style=\"font-family: 'Droid Arabic Naskh'; color: #000000; font-size: 12pt;\">٤</span></p>\n",
       "</td>\n",
       "<td style=\"width: 50px; border-top: none; border-left: 1pt solid black; border-bottom: 1pt solid black; border-right: none; padding: 0in 5.4pt;\" valign=\"top\">\n",
       "<p class=\"Normal1\" dir=\"RTL\" style=\"text-align: justify; line-height: normal; mso-pagination: none; direction: rtl; unicode-bidi: embed; border: none; mso-padding-alt: 0in 0in 0in 0in;\"><span lang=\"AR-SA\" style=\"font-family: 'Droid Arabic Naskh'; color: #000000; font-size: 12pt;\">٧</span></p>\n",
       "</td>\n",
       "<td style=\"width: 64px; border-top: none; border-left: 1pt solid black; border-bottom: 1pt solid black; border-right: none; padding: 0in 5.4pt;\" valign=\"top\">\n",
       "<p class=\"Normal1\" dir=\"RTL\" style=\"text-align: justify; line-height: normal; mso-pagination: none; direction: rtl; unicode-bidi: embed; border: none; mso-padding-alt: 0in 0in 0in 0in;\"><span lang=\"AR-SA\" style=\"font-family: 'Droid Arabic Naskh'; color: #000000; font-size: 12pt;\">٨</span></p>\n",
       "</td>\n",
       "<td style=\"width: 48.6215px; border-top: none; border-left: 1pt solid black; border-bottom: 1pt solid black; border-right: none; padding: 0in 5.4pt;\" valign=\"top\">\n",
       "<p class=\"Normal1\" dir=\"RTL\" style=\"text-align: justify; line-height: normal; mso-pagination: none; direction: rtl; unicode-bidi: embed; border: none; mso-padding-alt: 0in 0in 0in 0in;\"><span lang=\"AR-SA\" style=\"font-family: 'Droid Arabic Naskh'; color: #000000; font-size: 12pt;\">٠</span></p>\n",
       "</td>\n",
       "<td style=\"width: 68.3785px; border-top: none; border-left: 1pt solid black; border-bottom: 1pt solid black; border-right: none; padding: 0in 5.4pt;\" valign=\"top\">\n",
       "<p class=\"Normal1\" dir=\"RTL\" style=\"text-align: justify; line-height: normal; mso-pagination: none; direction: rtl; unicode-bidi: embed; border: none; mso-padding-alt: 0in 0in 0in 0in;\"><span lang=\"AR-SA\" style=\"font-family: 'Droid Arabic Naskh'; color: #000000; font-size: 12pt;\">١</span></p>\n",
       "</td>\n",
       "<td style=\"width: 59px; border-top: none; border-left: 1pt solid black; border-bottom: 1pt solid black; border-right: none; padding: 0in 5.4pt;\" valign=\"top\">\n",
       "<p class=\"Normal1\" dir=\"RTL\" style=\"text-align: justify; line-height: normal; mso-pagination: none; direction: rtl; unicode-bidi: embed; border: none; mso-padding-alt: 0in 0in 0in 0in;\"><span lang=\"AR-SA\" style=\"font-family: 'Droid Arabic Naskh'; color: #000000; font-size: 12pt;\">٥</span></p>\n",
       "</td>\n",
       "<td style=\"width: 39px; border-top: none; border-left: 1pt solid black; border-bottom: 1pt solid black; border-right: none; padding: 0in 5.4pt;\" valign=\"top\">\n",
       "<p class=\"Normal1\" dir=\"RTL\" style=\"text-align: justify; line-height: normal; mso-pagination: none; direction: rtl; unicode-bidi: embed; border: none; mso-padding-alt: 0in 0in 0in 0in;\"><span lang=\"AR-SA\" style=\"font-family: 'Droid Arabic Naskh'; color: #000000; font-size: 12pt;\">٤</span></p>\n",
       "</td>\n",
       "<td style=\"width: 60px; border-top: none; border-left: 1pt solid black; border-bottom: 1pt solid black; border-right: none; padding: 0in 5.4pt;\" valign=\"top\">\n",
       "<p class=\"Normal1\" dir=\"RTL\" style=\"text-align: justify; line-height: normal; mso-pagination: none; direction: rtl; unicode-bidi: embed; border: none; mso-padding-alt: 0in 0in 0in 0in;\"><span lang=\"AR-SA\" style=\"font-family: 'Droid Arabic Naskh'; color: #000000; font-size: 12pt;\">٧</span></p>\n",
       "</td>\n",
       "<td style=\"width: 45px; border-top: none; border-left: 1pt solid black; border-bottom: 1pt solid black; border-right: none; padding: 0in 5.4pt;\" valign=\"top\">\n",
       "<p class=\"Normal1\" dir=\"RTL\" style=\"text-align: justify; line-height: normal; mso-pagination: none; direction: rtl; unicode-bidi: embed; border: none; mso-padding-alt: 0in 0in 0in 0in;\"><span lang=\"AR-SA\" style=\"font-family: 'Droid Arabic Naskh'; color: #000000; font-size: 12pt;\">٨</span></p>\n",
       "</td>\n",
       "<td style=\"width: 63px; border-top: none; border-left: 1pt solid black; border-bottom: 1pt solid black; border-right: none; padding: 0in 5.4pt;\" valign=\"top\">\n",
       "<p class=\"Normal1\" dir=\"RTL\" style=\"text-align: justify; line-height: normal; mso-pagination: none; direction: rtl; unicode-bidi: embed; border: none; mso-padding-alt: 0in 0in 0in 0in;\"><span lang=\"AR-SA\" style=\"font-family: 'Droid Arabic Naskh'; color: #000000; font-size: 12pt;\"> </span></p>\n",
       "</td>\n",
       "<td style=\"width: 92px; border-top: none; border-left: 1pt solid black; border-bottom: 1pt solid black; border-right: none; padding: 0in 5.4pt;\" valign=\"top\">\n",
       "<p class=\"Normal1\" dir=\"RTL\" style=\"text-align: justify; line-height: normal; mso-pagination: none; direction: rtl; unicode-bidi: embed; border: none; mso-padding-alt: 0in 0in 0in 0in;\"><span lang=\"AR-SA\" style=\"font-family: 'Droid Arabic Naskh'; color: #000000; font-size: 12pt;\"> </span></p>\n",
       "</td>\n",
       "</tr>\n",
       "</tbody>\n",
       "</table>\n",
       "</div>\n",
       "<p class=\"Normal1\" dir=\"rtl\" style=\"line-height: normal; direction: rtl; unicode-bidi: embed; text-align: right;\"><span style=\"color: #000000; font-family: 'Droid Arabic Naskh'; font-size: 12pt;\"><span lang=\"AR-SA\"><br/><br/>اكتب العدد بالطريقة التحليلية كما يلي</span><span lang=\"AR-SA\">:<br/><br/></span></span><span style=\"color: #000000; font-family: 'Droid Arabic Naskh'; font-size: 12pt;\">٦ + ٤٠ + ٧٠٠ + ٨٠٠٠ + ١٠٠٠٠٠ + ٥٠٠٠٠٠٠ + ٤٠٠٠٠٠٠٠ + ٧٠٠٠٠٠٠٠٠ + ٨٠٠٠٠٠٠٠٠٠<br/><br/></span><span style=\"color: #000000; font-family: 'Droid Arabic Naskh'; font-size: 12pt;\">ثمانية مليارات وسبعمائة وخمس وأربعون مليون ومئة وثمانية آلاف وسبعمائة وستة وأربعون.</span></p></body></html>"
      ]
     },
     "execution_count": 10,
     "metadata": {},
     "output_type": "execute_result"
    }
   ],
   "source": [
    "page.find()"
   ]
  },
  {
   "cell_type": "code",
   "execution_count": null,
   "metadata": {},
   "outputs": [],
   "source": []
  }
 ],
 "metadata": {
  "kernelspec": {
   "display_name": "Python 3",
   "language": "python",
   "name": "python3"
  },
  "language_info": {
   "codemirror_mode": {
    "name": "ipython",
    "version": 3
   },
   "file_extension": ".py",
   "mimetype": "text/x-python",
   "name": "python",
   "nbconvert_exporter": "python",
   "pygments_lexer": "ipython3",
   "version": "3.6.5"
  }
 },
 "nbformat": 4,
 "nbformat_minor": 2
}
