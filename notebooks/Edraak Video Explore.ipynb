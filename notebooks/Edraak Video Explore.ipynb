{
 "cells": [
  {
   "cell_type": "code",
   "execution_count": 3,
   "metadata": {},
   "outputs": [],
   "source": [
    "import json\n",
    "import requests\n",
    "import requests_cache\n",
    "requests_cache.install_cache()\n",
    "\n",
    "\n",
    "\n",
    "from sushichef import CRAWLING_STAGE_OUTPUT\n",
    "channel_web_rsrc = json.load(open(CRAWLING_STAGE_OUTPUT,'r'))\n",
    "#                                                math           algebra\n",
    "root_component_url = channel_web_rsrc['children'][0]['children'][1]['root_component_id']\n",
    "\n",
    "from sushichef import get_component_from_id\n",
    "\n",
    "# component\n",
    "root_component = get_component_from_id(root_component_url)\n"
   ]
  },
  {
   "cell_type": "code",
   "execution_count": 4,
   "metadata": {},
   "outputs": [],
   "source": [
    "sample_video_id = '5a4c84397dd197090857ee5c'\n",
    "vid = get_component_from_id(sample_video_id)"
   ]
  },
  {
   "cell_type": "code",
   "execution_count": 5,
   "metadata": {
    "scrolled": false
   },
   "outputs": [
    {
     "data": {
      "text/plain": [
       "{'id': '5a4c84397dd197090857ee5c',\n",
       " 'program': 15,\n",
       " 'parent_id': '5a4c84397dd197090857ee5a',\n",
       " 'title': 'الفيديو',\n",
       " 'accept_activity_after_due_datetime': False,\n",
       " 'deleted': False,\n",
       " 'full_description': '<p dir=\"rtl\" style=\"text-align: right;\"><span style=\"font-family: \\'Droid Arabic Naskh\\'; font-size: 14pt;\">تحديد القاسم المشترك الأكبر لثلاثة أعداد على الأكثر</span></p>',\n",
       " 'listing_description': None,\n",
       " 'visibility': 'staff_and_teachers',\n",
       " 'children': [],\n",
       " 'created': '2018-01-03T07:20:25.184000',\n",
       " 'updated': '2018-01-15T14:21:52.260000',\n",
       " 'keywords': None,\n",
       " 'prerequisites': [],\n",
       " 'scaffolds': [],\n",
       " 'license': 'CC-BY-NC-SA',\n",
       " 'audience': [],\n",
       " 'eligibility_criteria': [],\n",
       " 'non_eligible_view': 'hidden',\n",
       " 'gamification_points_on_completion': 0,\n",
       " 'quick_access_components': [],\n",
       " 'source_type': 'e',\n",
       " 'edraak_video_id': '9cb5d2bd-ada2-40ef-9bbf-18ed8f0cfe41',\n",
       " 'youtube_url': None,\n",
       " 'external_url': None,\n",
       " 'video_download_allowed': False,\n",
       " '_cls': 'Component.FormActivityBase.Video',\n",
       " 'question_set': {'id': '5a4c84397dd197090857ee5d',\n",
       "  'program': None,\n",
       "  'parent_id': None,\n",
       "  'title': None,\n",
       "  'accept_activity_after_due_datetime': False,\n",
       "  'deleted': True,\n",
       "  'full_description': None,\n",
       "  'listing_description': None,\n",
       "  'visibility': 'staff_and_teachers',\n",
       "  'children': [],\n",
       "  'created': '2018-01-03T07:20:25.192000',\n",
       "  'updated': '2018-01-03T07:20:25.192000',\n",
       "  'keywords': [],\n",
       "  'prerequisites': [],\n",
       "  'scaffolds': [],\n",
       "  'license': 'all_rights_reserved',\n",
       "  'audience': [],\n",
       "  'eligibility_criteria': [],\n",
       "  'non_eligible_view': 'hidden',\n",
       "  'gamification_points_on_completion': 0,\n",
       "  'quick_access_components': [],\n",
       "  '_cls': 'Component.QuestionSet',\n",
       "  'classification': ['Component', 'QuestionSet'],\n",
       "  'component_type': 'QuestionSet',\n",
       "  'is_eligible': True},\n",
       " 'classification': ['Component', 'FormActivityBase', 'Video'],\n",
       " 'component_type': 'Video',\n",
       " 'is_eligible': True,\n",
       " 'video_info': {'encoded_videos': None,\n",
       "  'subtitles': [],\n",
       "  'url': '/api/val/videos/9cb5d2bd-ada2-40ef-9bbf-18ed8f0cfe41',\n",
       "  'created': '2018-01-15T13:41:56.015342Z',\n",
       "  'client_video_id': '7.2.2.mp4',\n",
       "  'duration': 512.441,\n",
       "  'status': 'file_delivered',\n",
       "  'programs': [{'repository/math-arithmetics-oers-v1': None}],\n",
       "  'edraak_video_id': '9cb5d2bd-ada2-40ef-9bbf-18ed8f0cfe41'}}"
      ]
     },
     "execution_count": 5,
     "metadata": {},
     "output_type": "execute_result"
    }
   ],
   "source": [
    "vid_files = vid['video_info']['encoded_videos']\n",
    "vid['video_info']['encoded_videos'] = None\n",
    "\n",
    "vid_keywords = vid['keywords']\n",
    "vid['keywords'] = None\n",
    "\n",
    "\n",
    "vid\n"
   ]
  },
  {
   "cell_type": "code",
   "execution_count": 40,
   "metadata": {},
   "outputs": [
    {
     "data": {
      "text/plain": [
       "[{'created': '2018-01-15T14:04:10.022650Z',\n",
       "  'modified': '2018-01-15T14:04:10.022650Z',\n",
       "  'url': 'I6JG12A-vG8',\n",
       "  'file_size': 0,\n",
       "  'bitrate': 0,\n",
       "  'profile': 'youtube'},\n",
       " {'created': '2018-01-15T14:17:50.748636Z',\n",
       "  'modified': '2018-01-15T14:17:50.748636Z',\n",
       "  'url': 'https://videos.edraak.org/videos-outputs/repository%2Fmath-arithmetics-oers-v1%2Fdesktop_mp4%2F9cb5d2bd-ada2-40ef-9bbf-18ed8f0cfe41.mp4',\n",
       "  'file_size': 163635771,\n",
       "  'bitrate': 2400,\n",
       "  'profile': 'desktop_mp4'},\n",
       " {'created': '2018-01-15T14:17:50.778908Z',\n",
       "  'modified': '2018-01-15T14:17:50.778908Z',\n",
       "  'url': 'https://videos.edraak.org/videos-outputs/repository%2Fmath-arithmetics-oers-v1%2Fdesktop_webm%2F9cb5d2bd-ada2-40ef-9bbf-18ed8f0cfe41.webm',\n",
       "  'file_size': 60520494,\n",
       "  'bitrate': 2400,\n",
       "  'profile': 'desktop_webm'},\n",
       " {'created': '2018-01-15T14:17:50.815035Z',\n",
       "  'modified': '2018-01-15T14:17:50.815035Z',\n",
       "  'url': 'https://videos.edraak.org/videos-outputs/repository%2Fmath-arithmetics-oers-v1%2Fmobile_low%2F9cb5d2bd-ada2-40ef-9bbf-18ed8f0cfe41.mp4',\n",
       "  'file_size': 54853502,\n",
       "  'bitrate': 720,\n",
       "  'profile': 'mobile_low'}]"
      ]
     },
     "execution_count": 40,
     "metadata": {},
     "output_type": "execute_result"
    }
   ],
   "source": [
    "vid_files"
   ]
  },
  {
   "cell_type": "code",
   "execution_count": 42,
   "metadata": {},
   "outputs": [
    {
     "name": "stdout",
     "output_type": "stream",
     "text": [
      "wget \"I6JG12A-vG8\"\n",
      "wget \"https://videos.edraak.org/videos-outputs/repository%2Fmath-arithmetics-oers-v1%2Fdesktop_mp4%2F9cb5d2bd-ada2-40ef-9bbf-18ed8f0cfe41.mp4\"\n",
      "wget \"https://videos.edraak.org/videos-outputs/repository%2Fmath-arithmetics-oers-v1%2Fdesktop_webm%2F9cb5d2bd-ada2-40ef-9bbf-18ed8f0cfe41.webm\"\n",
      "wget \"https://videos.edraak.org/videos-outputs/repository%2Fmath-arithmetics-oers-v1%2Fmobile_low%2F9cb5d2bd-ada2-40ef-9bbf-18ed8f0cfe41.mp4\"\n"
     ]
    }
   ],
   "source": [
    "for vf in vid_files:\n",
    "    print('wget \"' + vf['url'] +'\"')"
   ]
  },
  {
   "cell_type": "markdown",
   "metadata": {
    "scrolled": false
   },
   "source": []
  },
  {
   "cell_type": "markdown",
   "metadata": {},
   "source": [
    "None of the encoded videos are usable directly --- for an 8min video:\n",
    "```\n",
    "-rw-r--r--@ 1 ivan  staff   108M 23 Jul  2018 desktop_webm.webm\n",
    "-rw-r--r--@ 1 ivan  staff    52M 23 Jul  2018 mobile_low.mp4\n",
    "-rw-r--r--@ 1 ivan  staff   156M 23 Jul  2018 desktop_mp4.mp4\n",
    "```\n",
    "way too large.... will have to get from youtube and transcode on `vader`..."
   ]
  },
  {
   "cell_type": "code",
   "execution_count": 24,
   "metadata": {},
   "outputs": [],
   "source": []
  },
  {
   "cell_type": "code",
   "execution_count": null,
   "metadata": {},
   "outputs": [],
   "source": []
  },
  {
   "cell_type": "code",
   "execution_count": null,
   "metadata": {},
   "outputs": [],
   "source": []
  },
  {
   "cell_type": "code",
   "execution_count": null,
   "metadata": {},
   "outputs": [],
   "source": []
  }
 ],
 "metadata": {
  "kernelspec": {
   "display_name": "Python 3",
   "language": "python",
   "name": "python3"
  },
  "language_info": {
   "codemirror_mode": {
    "name": "ipython",
    "version": 3
   },
   "file_extension": ".py",
   "mimetype": "text/x-python",
   "name": "python",
   "nbconvert_exporter": "python",
   "pygments_lexer": "ipython3",
   "version": "3.6.5"
  }
 },
 "nbformat": 4,
 "nbformat_minor": 2
}
