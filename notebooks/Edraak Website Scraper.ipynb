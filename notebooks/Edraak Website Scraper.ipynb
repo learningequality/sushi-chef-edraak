{
 "cells": [
  {
   "cell_type": "markdown",
   "metadata": {},
   "source": [
    "## Edraak Website Scraper\n",
    "\n",
    "Try to get all component ids for each each course we can can then use  \n",
    "`https://programs.edraak.org/api/component/{component_id}/` through the API."
   ]
  },
  {
   "cell_type": "code",
   "execution_count": 1,
   "metadata": {},
   "outputs": [],
   "source": [
    "import json\n",
    "from bs4 import BeautifulSoup\n",
    "import nest_asyncio\n",
    "nest_asyncio.apply()\n",
    "from urllib.parse import urljoin\n"
   ]
  },
  {
   "cell_type": "code",
   "execution_count": 2,
   "metadata": {},
   "outputs": [],
   "source": [
    "from libpyppeteer import visit_page, get_resource_requests_from_networktab\n",
    "from sushichef import (START_URL, get_text,\n",
    "get_page, scrape_topics, build_web_resource_tree)"
   ]
  },
  {
   "cell_type": "code",
   "execution_count": null,
   "metadata": {},
   "outputs": [],
   "source": []
  },
  {
   "cell_type": "code",
   "execution_count": null,
   "metadata": {},
   "outputs": [],
   "source": []
  },
  {
   "cell_type": "code",
   "execution_count": 3,
   "metadata": {
    "scrolled": false
   },
   "outputs": [
    {
     "name": "stderr",
     "output_type": "stream",
     "text": [
      "[I:pyppeteer.launcher] Browser listening on: ws://127.0.0.1:60834/devtools/browser/c320d8eb-0ff5-44cd-a273-eecc29a24b4d\n"
     ]
    },
    {
     "name": "stdout",
     "output_type": "stream",
     "text": [
      "GET https://programs.edraak.org/learn/repository/math-algebra-topics-v2/section/5b9e193f78e7f904a04379e0/\n"
     ]
    },
    {
     "name": "stderr",
     "output_type": "stream",
     "text": [
      "[I:pyppeteer.launcher] terminate chrome process...\n"
     ]
    },
    {
     "name": "stdout",
     "output_type": "stream",
     "text": [
      "found component= https://programs.edraak.org/api/component/5b9e2364504622049eb8b8e9/?states_program_id=41\n",
      "GET https://programs.edraak.org/learn/repository/math-algebra-topics-v2/section/5b9e191a78e7f904a04379dd/\n"
     ]
    },
    {
     "name": "stderr",
     "output_type": "stream",
     "text": [
      "[I:pyppeteer.launcher] Browser listening on: ws://127.0.0.1:60870/devtools/browser/c47980a7-4617-4106-a399-f5974e03561a\n",
      "[I:pyppeteer.launcher] terminate chrome process...\n"
     ]
    },
    {
     "name": "stdout",
     "output_type": "stream",
     "text": [
      "found component= https://programs.edraak.org/api/component/5b9e2a07b1fcd3049d8be69c/?states_program_id=41\n",
      "GET https://programs.edraak.org/learn/repository/math-algebra-topics-v2/section/5a60881e6b9064043689772d/\n"
     ]
    },
    {
     "name": "stderr",
     "output_type": "stream",
     "text": [
      "[I:pyppeteer.launcher] Browser listening on: ws://127.0.0.1:60892/devtools/browser/86539db4-6bd0-4f37-97f4-657265ebb402\n",
      "[I:pyppeteer.launcher] terminate chrome process...\n"
     ]
    },
    {
     "name": "stdout",
     "output_type": "stream",
     "text": [
      "found component= https://programs.edraak.org/api/component/5a60ac073d99e104fb62ce12/?states_program_id=41\n",
      "GET https://programs.edraak.org/learn/repository/math-algebra-topics-v2/section/5a608819f3a50d049abf68ea/\n"
     ]
    },
    {
     "name": "stderr",
     "output_type": "stream",
     "text": [
      "[I:pyppeteer.launcher] Browser listening on: ws://127.0.0.1:60910/devtools/browser/a96993af-14f9-4f39-aac5-9261ae24f334\n",
      "[I:pyppeteer.launcher] terminate chrome process...\n"
     ]
    },
    {
     "name": "stdout",
     "output_type": "stream",
     "text": [
      "found component= https://programs.edraak.org/api/component/5a60a25f0ed49f0498cb201d/?states_program_id=41\n",
      "GET https://programs.edraak.org/learn/repository/math-algebra-topics-v2/section/5a6088188c9a02049a3e69e5/\n"
     ]
    },
    {
     "name": "stderr",
     "output_type": "stream",
     "text": [
      "[I:pyppeteer.launcher] Browser listening on: ws://127.0.0.1:60929/devtools/browser/74a20b50-e98a-4e9a-8f54-46c15d6dff8e\n",
      "[I:pyppeteer.launcher] terminate chrome process...\n"
     ]
    },
    {
     "name": "stdout",
     "output_type": "stream",
     "text": [
      "found component= https://programs.edraak.org/api/component/5a6093428c9a02049a3e7457/?states_program_id=41\n",
      "GET https://programs.edraak.org/learn/repository/math-algebra-topics-v2/section/5a608815f3a50d049abf68e9/\n"
     ]
    },
    {
     "name": "stderr",
     "output_type": "stream",
     "text": [
      "[I:pyppeteer.launcher] Browser listening on: ws://127.0.0.1:60947/devtools/browser/acf67928-bd9a-46fc-bb41-9c681881a443\n",
      "[I:pyppeteer.launcher] terminate chrome process...\n"
     ]
    },
    {
     "name": "stdout",
     "output_type": "stream",
     "text": [
      "found component= https://programs.edraak.org/api/component/5a608cc76380a6049b33feb6/?states_program_id=41\n"
     ]
    },
    {
     "data": {
      "text/plain": [
       "{'title': 'Edraak Channel',\n",
       " 'url': 'https://www.edraak.org/k12/',\n",
       " 'children': [{'title': 'الرياضيات',\n",
       "   'title_en': 'math',\n",
       "   'children': [{'title': 'التفاضل والتكامل',\n",
       "     'url': 'https://programs.edraak.org/learn/repository/math-algebra-topics-v2/section/5b9e193f78e7f904a04379e0/',\n",
       "     'thumbnail_url': 'https://edraak-marketing-uploads.edraak.org/k12_program_topics/tafadol_wa_takamol.jpg',\n",
       "     'children': [],\n",
       "     'root_component_id': '5b9e193f78e7f904a04379e0'},\n",
       "    {'title': 'الرياضيات التطبيقية (الميكانيكا)',\n",
       "     'url': 'https://programs.edraak.org/learn/repository/math-algebra-topics-v2/section/5b9e191a78e7f904a04379dd/',\n",
       "     'thumbnail_url': 'https://edraak-marketing-uploads.edraak.org/k12_program_topics/Ihsaa_wa_ihtemalat.jpg',\n",
       "     'children': [],\n",
       "     'root_component_id': '5b9e191a78e7f904a04379dd'},\n",
       "    {'title': 'الإحصاء و الاحتمالات',\n",
       "     'url': 'https://programs.edraak.org/learn/repository/math-algebra-topics-v2/section/5a60881e6b9064043689772d/',\n",
       "     'thumbnail_url': 'https://edraak-marketing-uploads.edraak.org/k12_program_topics/riadyat_tatbekyeh_1.jpg',\n",
       "     'children': [],\n",
       "     'root_component_id': '5a60881e6b9064043689772d'},\n",
       "    {'title': 'الهندسة وعلم المثلثات',\n",
       "     'url': 'https://programs.edraak.org/learn/repository/math-algebra-topics-v2/section/5a608819f3a50d049abf68ea/',\n",
       "     'thumbnail_url': 'https://edraak-marketing-uploads.edraak.org/k12_program_topics/handasa_wal_kyas.jpg',\n",
       "     'children': [],\n",
       "     'root_component_id': '5a608819f3a50d049abf68ea'},\n",
       "    {'title': 'الجبر و الأنماط',\n",
       "     'url': 'https://programs.edraak.org/learn/repository/math-algebra-topics-v2/section/5a6088188c9a02049a3e69e5/',\n",
       "     'thumbnail_url': 'https://edraak-marketing-uploads.edraak.org/k12_program_topics/al_jabr_wal_anmat.jpg',\n",
       "     'children': [],\n",
       "     'root_component_id': '5a6088188c9a02049a3e69e5'},\n",
       "    {'title': 'الأعداد والعمليات الحسابية عليها',\n",
       "     'url': 'https://programs.edraak.org/learn/repository/math-algebra-topics-v2/section/5a608815f3a50d049abf68e9/',\n",
       "     'thumbnail_url': 'https://edraak-marketing-uploads.edraak.org/k12_program_topics/a3dad_wa_3amalyat.jpg',\n",
       "     'children': [],\n",
       "     'root_component_id': '5a608815f3a50d049abf68e9'}]}]}"
      ]
     },
     "execution_count": 3,
     "metadata": {},
     "output_type": "execute_result"
    }
   ],
   "source": [
    "build_web_resource_tree(START_URL)"
   ]
  },
  {
   "cell_type": "code",
   "execution_count": null,
   "metadata": {},
   "outputs": [],
   "source": []
  },
  {
   "cell_type": "code",
   "execution_count": null,
   "metadata": {},
   "outputs": [],
   "source": []
  },
  {
   "cell_type": "code",
   "execution_count": null,
   "metadata": {},
   "outputs": [],
   "source": []
  },
  {
   "cell_type": "code",
   "execution_count": null,
   "metadata": {},
   "outputs": [],
   "source": []
  },
  {
   "cell_type": "code",
   "execution_count": null,
   "metadata": {},
   "outputs": [],
   "source": []
  },
  {
   "cell_type": "code",
   "execution_count": null,
   "metadata": {},
   "outputs": [],
   "source": []
  },
  {
   "cell_type": "code",
   "execution_count": null,
   "metadata": {},
   "outputs": [],
   "source": []
  },
  {
   "cell_type": "code",
   "execution_count": null,
   "metadata": {},
   "outputs": [],
   "source": []
  },
  {
   "cell_type": "code",
   "execution_count": null,
   "metadata": {},
   "outputs": [],
   "source": []
  },
  {
   "cell_type": "code",
   "execution_count": null,
   "metadata": {},
   "outputs": [],
   "source": []
  },
  {
   "cell_type": "code",
   "execution_count": null,
   "metadata": {},
   "outputs": [],
   "source": []
  },
  {
   "cell_type": "code",
   "execution_count": null,
   "metadata": {},
   "outputs": [],
   "source": []
  },
  {
   "cell_type": "code",
   "execution_count": null,
   "metadata": {},
   "outputs": [],
   "source": []
  },
  {
   "cell_type": "code",
   "execution_count": null,
   "metadata": {},
   "outputs": [],
   "source": []
  },
  {
   "cell_type": "code",
   "execution_count": null,
   "metadata": {},
   "outputs": [],
   "source": []
  },
  {
   "cell_type": "code",
   "execution_count": null,
   "metadata": {},
   "outputs": [],
   "source": []
  },
  {
   "cell_type": "code",
   "execution_count": null,
   "metadata": {},
   "outputs": [],
   "source": []
  },
  {
   "cell_type": "code",
   "execution_count": null,
   "metadata": {},
   "outputs": [],
   "source": []
  },
  {
   "cell_type": "code",
   "execution_count": null,
   "metadata": {},
   "outputs": [],
   "source": []
  }
 ],
 "metadata": {
  "kernelspec": {
   "display_name": "Python 3",
   "language": "python",
   "name": "python3"
  },
  "language_info": {
   "codemirror_mode": {
    "name": "ipython",
    "version": 3
   },
   "file_extension": ".py",
   "mimetype": "text/x-python",
   "name": "python",
   "nbconvert_exporter": "python",
   "pygments_lexer": "ipython3",
   "version": "3.6.5"
  }
 },
 "nbformat": 4,
 "nbformat_minor": 2
}
