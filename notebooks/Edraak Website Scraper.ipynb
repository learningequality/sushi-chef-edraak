{
 "cells": [
  {
   "cell_type": "markdown",
   "metadata": {},
   "source": [
    "## Edraak Website Scraper\n",
    "\n",
    "Try to get all component ids for each each course we can can then use  \n",
    "`https://programs.edraak.org/api/component/{component_id}/` through the API."
   ]
  },
  {
   "cell_type": "code",
   "execution_count": 1,
   "metadata": {},
   "outputs": [],
   "source": [
    "import json\n",
    "from bs4 import BeautifulSoup\n",
    "import nest_asyncio\n",
    "nest_asyncio.apply()\n",
    "from urllib.parse import urljoin\n"
   ]
  },
  {
   "cell_type": "code",
   "execution_count": 2,
   "metadata": {},
   "outputs": [],
   "source": [
    "from libpyppeteer import visit_page, get_resource_requests_from_networktab\n",
    "from sushichef import (get_course_component, START_URL, get_text, scrape_grades,\n",
    "get_page, scrape_topics, build_web_resource_tree)"
   ]
  },
  {
   "cell_type": "code",
   "execution_count": null,
   "metadata": {},
   "outputs": [],
   "source": []
  },
  {
   "cell_type": "code",
   "execution_count": null,
   "metadata": {},
   "outputs": [],
   "source": []
  },
  {
   "cell_type": "code",
   "execution_count": 3,
   "metadata": {},
   "outputs": [
    {
     "name": "stdout",
     "output_type": "stream",
     "text": [
      "GET https://programs.edraak.org/learn/repository/math-algebra-topics-v2/section/5b9e193f78e7f904a04379e0/\n",
      "GET https://programs.edraak.org/learn/repository/math-algebra-topics-v2/section/5b9e191a78e7f904a04379dd/\n",
      "GET https://programs.edraak.org/learn/repository/math-algebra-topics-v2/section/5a60881e6b9064043689772d/\n",
      "GET https://programs.edraak.org/learn/repository/math-algebra-topics-v2/section/5a608819f3a50d049abf68ea/\n",
      "GET https://programs.edraak.org/learn/repository/math-algebra-topics-v2/section/5a6088188c9a02049a3e69e5/\n",
      "GET https://programs.edraak.org/learn/repository/math-algebra-topics-v2/section/5a608815f3a50d049abf68e9/\n"
     ]
    },
    {
     "data": {
      "text/plain": [
       "{'title': 'Edraak Channel',\n",
       " 'url': 'https://www.edraak.org/k12/',\n",
       " 'children': [{'title': 'الرياضيات',\n",
       "   'title_en': 'math',\n",
       "   'children': [{'title': 'التفاضل والتكامل',\n",
       "     'url': 'https://programs.edraak.org/learn/repository/math-algebra-topics-v2/section/5b9e193f78e7f904a04379e0/',\n",
       "     'thumbnail_url': 'https://edraak-marketing-uploads.edraak.org/k12_program_topics/tafadol_wa_takamol.jpg',\n",
       "     'children': [],\n",
       "     'component_url': 'https://programs.edraak.org/api/component/5a6087f46380a6049b33fc19/?states_program_id=41'},\n",
       "    {'title': 'الرياضيات التطبيقية (الميكانيكا)',\n",
       "     'url': 'https://programs.edraak.org/learn/repository/math-algebra-topics-v2/section/5b9e191a78e7f904a04379dd/',\n",
       "     'thumbnail_url': 'https://edraak-marketing-uploads.edraak.org/k12_program_topics/Ihsaa_wa_ihtemalat.jpg',\n",
       "     'children': [],\n",
       "     'component_url': 'https://programs.edraak.org/api/component/5a6087f46380a6049b33fc19/?states_program_id=41'},\n",
       "    {'title': 'الإحصاء و الاحتمالات',\n",
       "     'url': 'https://programs.edraak.org/learn/repository/math-algebra-topics-v2/section/5a60881e6b9064043689772d/',\n",
       "     'thumbnail_url': 'https://edraak-marketing-uploads.edraak.org/k12_program_topics/riadyat_tatbekyeh_1.jpg',\n",
       "     'children': [],\n",
       "     'component_url': 'https://programs.edraak.org/api/component/5a6087f46380a6049b33fc19/?states_program_id=41'},\n",
       "    {'title': 'الهندسة وعلم المثلثات',\n",
       "     'url': 'https://programs.edraak.org/learn/repository/math-algebra-topics-v2/section/5a608819f3a50d049abf68ea/',\n",
       "     'thumbnail_url': 'https://edraak-marketing-uploads.edraak.org/k12_program_topics/handasa_wal_kyas.jpg',\n",
       "     'children': [],\n",
       "     'component_url': 'https://programs.edraak.org/api/component/5a6087f46380a6049b33fc19/?states_program_id=41'},\n",
       "    {'title': 'الجبر و الأنماط',\n",
       "     'url': 'https://programs.edraak.org/learn/repository/math-algebra-topics-v2/section/5a6088188c9a02049a3e69e5/',\n",
       "     'thumbnail_url': 'https://edraak-marketing-uploads.edraak.org/k12_program_topics/al_jabr_wal_anmat.jpg',\n",
       "     'children': [],\n",
       "     'component_url': 'https://programs.edraak.org/api/component/5a6087f46380a6049b33fc19/?states_program_id=41'},\n",
       "    {'title': 'الأعداد والعمليات الحسابية عليها',\n",
       "     'url': 'https://programs.edraak.org/learn/repository/math-algebra-topics-v2/section/5a608815f3a50d049abf68e9/',\n",
       "     'thumbnail_url': 'https://edraak-marketing-uploads.edraak.org/k12_program_topics/a3dad_wa_3amalyat.jpg',\n",
       "     'children': [],\n",
       "     'component_url': 'https://programs.edraak.org/api/component/5a6087f46380a6049b33fc19/?states_program_id=41'}]}]}"
      ]
     },
     "execution_count": 3,
     "metadata": {},
     "output_type": "execute_result"
    }
   ],
   "source": [
    "build_web_resource_tree(START_URL)"
   ]
  },
  {
   "cell_type": "code",
   "execution_count": null,
   "metadata": {},
   "outputs": [],
   "source": []
  },
  {
   "cell_type": "code",
   "execution_count": 6,
   "metadata": {},
   "outputs": [],
   "source": [
    "# page"
   ]
  },
  {
   "cell_type": "markdown",
   "metadata": {},
   "source": [
    "\n",
    "### Get grades"
   ]
  },
  {
   "cell_type": "code",
   "execution_count": null,
   "metadata": {},
   "outputs": [],
   "source": [
    "\n",
    "\n",
    "\n"
   ]
  },
  {
   "cell_type": "code",
   "execution_count": null,
   "metadata": {},
   "outputs": [],
   "source": []
  },
  {
   "cell_type": "code",
   "execution_count": null,
   "metadata": {},
   "outputs": [],
   "source": []
  },
  {
   "cell_type": "code",
   "execution_count": null,
   "metadata": {},
   "outputs": [],
   "source": [
    "    "
   ]
  },
  {
   "cell_type": "code",
   "execution_count": null,
   "metadata": {},
   "outputs": [],
   "source": []
  },
  {
   "cell_type": "code",
   "execution_count": null,
   "metadata": {},
   "outputs": [],
   "source": []
  },
  {
   "cell_type": "code",
   "execution_count": null,
   "metadata": {},
   "outputs": [],
   "source": []
  },
  {
   "cell_type": "code",
   "execution_count": null,
   "metadata": {},
   "outputs": [],
   "source": []
  },
  {
   "cell_type": "code",
   "execution_count": null,
   "metadata": {},
   "outputs": [],
   "source": []
  },
  {
   "cell_type": "code",
   "execution_count": null,
   "metadata": {},
   "outputs": [],
   "source": []
  },
  {
   "cell_type": "code",
   "execution_count": null,
   "metadata": {},
   "outputs": [],
   "source": []
  },
  {
   "cell_type": "code",
   "execution_count": null,
   "metadata": {},
   "outputs": [],
   "source": []
  },
  {
   "cell_type": "code",
   "execution_count": null,
   "metadata": {},
   "outputs": [],
   "source": []
  },
  {
   "cell_type": "code",
   "execution_count": null,
   "metadata": {},
   "outputs": [],
   "source": []
  },
  {
   "cell_type": "code",
   "execution_count": null,
   "metadata": {},
   "outputs": [],
   "source": []
  },
  {
   "cell_type": "code",
   "execution_count": null,
   "metadata": {},
   "outputs": [],
   "source": []
  },
  {
   "cell_type": "code",
   "execution_count": null,
   "metadata": {},
   "outputs": [],
   "source": []
  },
  {
   "cell_type": "code",
   "execution_count": 6,
   "metadata": {},
   "outputs": [],
   "source": []
  },
  {
   "cell_type": "code",
   "execution_count": 3,
   "metadata": {},
   "outputs": [],
   "source": []
  },
  {
   "cell_type": "code",
   "execution_count": null,
   "metadata": {},
   "outputs": [],
   "source": []
  }
 ],
 "metadata": {
  "kernelspec": {
   "display_name": "Python 3",
   "language": "python",
   "name": "python3"
  },
  "language_info": {
   "codemirror_mode": {
    "name": "ipython",
    "version": 3
   },
   "file_extension": ".py",
   "mimetype": "text/x-python",
   "name": "python",
   "nbconvert_exporter": "python",
   "pygments_lexer": "ipython3",
   "version": "3.6.5"
  }
 },
 "nbformat": 4,
 "nbformat_minor": 2
}
