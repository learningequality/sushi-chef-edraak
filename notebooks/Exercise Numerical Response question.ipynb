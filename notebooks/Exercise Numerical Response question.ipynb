{
 "cells": [
  {
   "cell_type": "code",
   "execution_count": 1,
   "metadata": {},
   "outputs": [],
   "source": [
    "from html2text import html2text\n",
    "import json\n",
    "import requests\n",
    "import requests_cache\n",
    "requests_cache.install_cache()\n",
    "\n",
    "\n",
    "\n",
    "from sushichef import CRAWLING_STAGE_OUTPUT\n",
    "channel_web_rsrc = json.load(open(CRAWLING_STAGE_OUTPUT,'r'))\n",
    "#                                                math           algebra\n",
    "root_component_url = channel_web_rsrc['children'][0]['children'][1]['root_component_id']\n",
    "\n",
    "from sushichef import get_component_from_id\n",
    "\n",
    "# component\n",
    "root_component = get_component_from_id(root_component_url)\n"
   ]
  },
  {
   "cell_type": "code",
   "execution_count": 2,
   "metadata": {},
   "outputs": [],
   "source": [
    "sample_exercise_id2 = '5a4c84377dd197090857ecf2'\n",
    "exercise = get_component_from_id(sample_exercise_id2)\n",
    "question_set = exercise['question_set']\n",
    "question_set_children = question_set['children']\n"
   ]
  },
  {
   "cell_type": "code",
   "execution_count": 3,
   "metadata": {},
   "outputs": [
    {
     "data": {
      "text/plain": [
       "7"
      ]
     },
     "execution_count": 3,
     "metadata": {},
     "output_type": "execute_result"
    }
   ],
   "source": [
    "len(question_set_children)"
   ]
  },
  {
   "cell_type": "code",
   "execution_count": 4,
   "metadata": {
    "scrolled": false
   },
   "outputs": [],
   "source": [
    "question = question_set_children[0]"
   ]
  },
  {
   "cell_type": "code",
   "execution_count": 5,
   "metadata": {},
   "outputs": [
    {
     "data": {
      "text/plain": [
       "'NumericResponseQuestion'"
      ]
     },
     "execution_count": 5,
     "metadata": {},
     "output_type": "execute_result"
    }
   ],
   "source": [
    "question['component_type']"
   ]
  },
  {
   "cell_type": "code",
   "execution_count": 6,
   "metadata": {},
   "outputs": [],
   "source": [
    "question['hints'] = None\n",
    "question['explanation'] = None"
   ]
  },
  {
   "cell_type": "code",
   "execution_count": 7,
   "metadata": {},
   "outputs": [
    {
     "data": {
      "text/plain": [
       "{'id': '5a4c84377dd197090857ecf4',\n",
       " 'program': 15,\n",
       " 'parent_id': '5a4c84377dd197090857ecf3',\n",
       " 'title': 'السؤال الأول',\n",
       " 'accept_activity_after_due_datetime': False,\n",
       " 'deleted': False,\n",
       " 'full_description': '<p dir=\"rtl\" style=\"text-align: right;\"><span style=\"color: #000000; font-family: \\'Droid Arabic Naskh\\'; font-size: 12pt;\">القيمة المنزلية للرقم ٦ في العدد ١٦٤٥٣٠٩٨٧هي:</span></p>',\n",
       " 'listing_description': None,\n",
       " 'visibility': 'staff_and_teachers',\n",
       " 'children': [],\n",
       " 'created': '2018-01-03T07:20:23.951000',\n",
       " 'updated': '2018-01-18T11:54:39.441000',\n",
       " 'keywords': [],\n",
       " 'prerequisites': [],\n",
       " 'scaffolds': [],\n",
       " 'license': 'all_rights_reserved',\n",
       " 'audience': [],\n",
       " 'eligibility_criteria': [],\n",
       " 'non_eligible_view': 'hidden',\n",
       " 'gamification_points_on_completion': 0,\n",
       " 'quick_access_components': [],\n",
       " 'is_required': False,\n",
       " 'grade_weight': None,\n",
       " 'video_time': None,\n",
       " 'hints': None,\n",
       " 'explanation': None,\n",
       " 'correct_answer_precise': 60000000.0,\n",
       " 'correct_answer_range_from': None,\n",
       " 'correct_answer_range_to': None,\n",
       " 'answer_unit': None,\n",
       " 'enable_tolerance': False,\n",
       " '_cls': 'Component.FormElement.AssessmentQuestion.NumericResponseQuestion',\n",
       " 'classification': ['Component',\n",
       "  'FormElement',\n",
       "  'AssessmentQuestion',\n",
       "  'NumericResponseQuestion'],\n",
       " 'component_type': 'NumericResponseQuestion',\n",
       " 'is_eligible': True,\n",
       " 'child_index': 0}"
      ]
     },
     "execution_count": 7,
     "metadata": {},
     "output_type": "execute_result"
    }
   ],
   "source": [
    "question"
   ]
  },
  {
   "cell_type": "code",
   "execution_count": null,
   "metadata": {},
   "outputs": [],
   "source": []
  },
  {
   "cell_type": "code",
   "execution_count": null,
   "metadata": {},
   "outputs": [],
   "source": []
  }
 ],
 "metadata": {
  "kernelspec": {
   "display_name": "Python 3",
   "language": "python",
   "name": "python3"
  },
  "language_info": {
   "codemirror_mode": {
    "name": "ipython",
    "version": 3
   },
   "file_extension": ".py",
   "mimetype": "text/x-python",
   "name": "python",
   "nbconvert_exporter": "python",
   "pygments_lexer": "ipython3",
   "version": "3.6.5"
  }
 },
 "nbformat": 4,
 "nbformat_minor": 2
}
