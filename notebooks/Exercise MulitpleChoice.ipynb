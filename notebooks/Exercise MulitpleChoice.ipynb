{
 "cells": [
  {
   "cell_type": "code",
   "execution_count": 3,
   "metadata": {},
   "outputs": [],
   "source": [
    "from html2text import html2text\n",
    "import json\n",
    "import requests\n",
    "import requests_cache\n",
    "requests_cache.install_cache()\n",
    "\n",
    "\n",
    "\n",
    "from sushichef import CRAWLING_STAGE_OUTPUT\n",
    "channel_web_rsrc = json.load(open(CRAWLING_STAGE_OUTPUT,'r'))\n",
    "#                                                math           algebra\n",
    "root_component_url = channel_web_rsrc['children'][0]['children'][1]['root_component_id']\n",
    "\n",
    "from sushichef import  get_component_from_id\n",
    "\n",
    "# component\n",
    "root_component = get_component_from_id(root_component_url)\n"
   ]
  },
  {
   "cell_type": "code",
   "execution_count": 5,
   "metadata": {},
   "outputs": [],
   "source": [
    "sample_exercise_id = '5a4c843b7dd197090857f05c'\n",
    "exercise = get_component_from_id(sample_exercise_id)\n",
    "question_set = exercise['question_set']\n",
    "question_set_children = question_set['children']\n",
    "question_set['children'] = None\n",
    "# question_set"
   ]
  },
  {
   "cell_type": "code",
   "execution_count": 6,
   "metadata": {},
   "outputs": [
    {
     "data": {
      "text/plain": [
       "4"
      ]
     },
     "execution_count": 6,
     "metadata": {},
     "output_type": "execute_result"
    }
   ],
   "source": [
    "len(question_set_children)"
   ]
  },
  {
   "cell_type": "code",
   "execution_count": 7,
   "metadata": {
    "scrolled": false
   },
   "outputs": [],
   "source": [
    "question = question_set_children[0]"
   ]
  },
  {
   "cell_type": "code",
   "execution_count": 8,
   "metadata": {},
   "outputs": [
    {
     "data": {
      "text/plain": [
       "'MultipleChoiceQuestion'"
      ]
     },
     "execution_count": 8,
     "metadata": {},
     "output_type": "execute_result"
    }
   ],
   "source": [
    "question['component_type']"
   ]
  },
  {
   "cell_type": "code",
   "execution_count": 24,
   "metadata": {},
   "outputs": [],
   "source": [
    "\n",
    "# def process_exercise(component_id):\n",
    "#     exercise_data = get_component_from_id(component_id)\n",
    "#     question_set = exercise_data['question_set']\n",
    "#     print('id:', exercise_data['id'],\n",
    "#            len(question_set['children']), 'questions' )\n",
    "#     questions = question_set['children']\n",
    "#     for question in questions:\n",
    "#         process_question(question)\n",
    "\n",
    "# def process_question(question_data):\n",
    "#     description = question_data['full_description']\n",
    "#     print(html2text(description, bodywidth=0))\n",
    "#     print('\\n\\n--\\n\\n')\n",
    "        \n",
    "\n",
    "\n",
    "# # for exercise in exercises[0:20]:\n",
    "# #     component_id = exercise['id']\n",
    "# #     process_exercise(component_id)\n"
   ]
  },
  {
   "cell_type": "code",
   "execution_count": 9,
   "metadata": {},
   "outputs": [
    {
     "data": {
      "text/plain": [
       "{'id': '5a547fc97dd197717bd48468',\n",
       " 'program': 15,\n",
       " 'parent_id': '5a4c843b7dd197090857f05d',\n",
       " 'title': 'Untitled',\n",
       " 'accept_activity_after_due_datetime': False,\n",
       " 'deleted': False,\n",
       " 'full_description': '<p dir=\"rtl\" style=\"line-height: 1.2; margin-top: 0pt; margin-bottom: 0pt; text-align: justify;\"><span style=\"font-size: 11pt; font-family: \\'Open Sans\\'; color: #000000; background-color: transparent; font-weight: 400; font-style: normal; font-variant: normal; text-decoration: none; vertical-align: baseline; white-space: pre-wrap;\">مستخدماً التقدير الذهني، أجب عن السؤال التالي بنعم أو لا:</span></p>\\n<p>&nbsp;</p>\\n<p dir=\"rtl\" style=\"line-height: 1.2; margin-top: 0pt; margin-bottom: 0pt; text-align: justify;\"><span style=\"font-size: 11pt; font-family: \\'Open Sans\\'; color: #000000; background-color: transparent; font-weight: 400; font-style: normal; font-variant: normal; text-decoration: none; vertical-align: baseline; white-space: pre-wrap;\">لدى عامر مبلغ ٥ دنانير ويريد تناول وجبة تتكون من شاورما سعرها &nbsp;٣٫٥ دينار وعصير فواكه سعره ١٫٢٥ دينار. </span>&nbsp;</p>\\n<p>&nbsp;</p>\\n<p dir=\"rtl\" style=\"line-height: 1.2; margin-top: 0pt; margin-bottom: 0pt; text-align: justify;\"><span style=\"font-size: 11pt; font-family: \\'Open Sans\\'; color: #000000; background-color: transparent; font-weight: 400; font-style: normal; font-variant: normal; text-decoration: none; vertical-align: baseline; white-space: pre-wrap;\">هل يكفي المبلغ الذي مع عامر لتناول الوجبة ؟</span></p>\\n<p dir=\"rtl\" style=\"line-height: 1.2; margin-top: 0pt; margin-bottom: 0pt; text-align: justify;\"><span style=\"font-size: 11pt; font-family: \\'Open Sans\\'; color: #000000; background-color: transparent; font-weight: 400; font-style: normal; font-variant: normal; text-decoration: none; vertical-align: baseline; white-space: pre-wrap;\"><img src=\"https://s3.amazonaws.com/edraak-progs-bucket/program_assets/repository/math-arithmetics-oers-v1/images/1516128958-blobid1516128825295.png\" alt=\"\" width=\"250\" height=\"290\" /></span></p>',\n",
       " 'listing_description': None,\n",
       " 'visibility': 'staff_and_teachers',\n",
       " 'children': [],\n",
       " 'created': '2018-01-09T08:39:37.782000',\n",
       " 'updated': '2018-01-16T18:56:00.732000',\n",
       " 'keywords': [],\n",
       " 'prerequisites': [],\n",
       " 'scaffolds': [],\n",
       " 'license': 'all_rights_reserved',\n",
       " 'audience': [],\n",
       " 'eligibility_criteria': [],\n",
       " 'non_eligible_view': 'hidden',\n",
       " 'gamification_points_on_completion': 0,\n",
       " 'quick_access_components': [],\n",
       " 'is_required': False,\n",
       " 'grade_weight': None,\n",
       " 'video_time': None,\n",
       " 'hints': [{'item_id': '5a5480187dd197717bd48529',\n",
       "   'title': 'Untitled',\n",
       "   'description': '<p dir=\"rtl\" style=\"line-height: 1.2; margin-top: 0pt; margin-bottom: 0pt; text-align: right;\"><span style=\"font-family: \\'Open Sans\\'; font-size: 11pt; color: #000000; font-variant-numeric: normal; font-variant-east-asian: normal; vertical-align: baseline; white-space: pre-wrap;\">استخدم التقدير الذهني لكسب الوقت والجهد، وذلك بتقريب المعطيات.</span><span style=\"font-family: \\'Open Sans\\'; font-size: 11pt; color: #000000; font-variant-numeric: normal; font-variant-east-asian: normal; vertical-align: baseline; white-space: pre-wrap;\">&nbsp;</span></p>',\n",
       "   'hint_content': None,\n",
       "   '_cls': 'QuestionHint'},\n",
       "  {'item_id': '5a5480297dd197717c99af13',\n",
       "   'title': 'Untitled',\n",
       "   'description': '<p dir=\"rtl\" style=\"text-align: right;\"><span style=\"font-family: \\'Open Sans\\'; font-size: 11pt; color: #000000; font-variant-numeric: normal; font-variant-east-asian: normal; vertical-align: baseline; white-space: pre-wrap;\">سعر الشاورما ٣٫٥ دينار تقريباً &nbsp;٤ دنانير.</span></p>\\n<p>&nbsp;</p>\\n<p dir=\"rtl\" style=\"line-height: 1.2; margin-top: 0pt; margin-bottom: 0pt; text-align: right;\"><span style=\"font-family: \\'Open Sans\\'; font-size: 11pt; color: #000000; font-variant-numeric: normal; font-variant-east-asian: normal; vertical-align: baseline; white-space: pre-wrap;\">وعصير الفواكه سعره ١٫٢٥ دينار تقريباً ١ دينار.</span></p>\\n<p>&nbsp;</p>\\n<p style=\"text-align: right;\"><span style=\"font-family: \\'Open Sans\\'; font-size: 11pt; color: #000000; font-variant-numeric: normal; font-variant-east-asian: normal; vertical-align: baseline; white-space: pre-wrap;\">&nbsp;</span></p>',\n",
       "   'hint_content': None,\n",
       "   '_cls': 'QuestionHint'},\n",
       "  {'item_id': '5a5480357dd197717c99af20',\n",
       "   'title': 'Untitled',\n",
       "   'description': '<p dir=\"rtl\" style=\"line-height: 1.2; margin-top: 0pt; margin-bottom: 0pt; text-align: right;\">&nbsp;</p>\\n<p dir=\"rtl\" style=\"line-height: 1.2; margin-top: 0pt; margin-bottom: 0pt; text-align: right;\"><span style=\"font-family: \\'Open Sans\\'; font-size: 11pt; color: #000000; font-variant-numeric: normal; font-variant-east-asian: normal; vertical-align: baseline; white-space: pre-wrap;\">سعر الشاورما &nbsp;وعصير الفواكه تقريباً يساوي &nbsp;٤ + ١ = ٥ دنانير.</span></p>\\n<p><span style=\"font-family: \\'Open Sans\\'; font-size: 11pt; color: #000000; font-variant-numeric: normal; font-variant-east-asian: normal; vertical-align: baseline; white-space: pre-wrap;\">&nbsp;</span></p>',\n",
       "   'hint_content': None,\n",
       "   '_cls': 'QuestionHint'}],\n",
       " 'explanation': '<p dir=\"rtl\" style=\"line-height: 1.2; margin-top: 0pt; margin-bottom: 0pt; text-align: right;\"><span style=\"font-size: 11pt; font-family: \\'Open Sans\\'; color: #000000; background-color: transparent; font-weight: 400; font-style: normal; font-variant: normal; text-decoration: none; vertical-align: baseline; white-space: pre-wrap;\">استخدم التقدير الذهني لكسب الوقت والجهد، وذلك بتقريب المعطيات:</span></p>\\n<p>&nbsp;</p>\\n<p dir=\"rtl\"><strong id=\"docs-internal-guid-f44a1e10-da14-94e5-0bc0-3e2dd1ccba57\" style=\"font-weight: normal;\">&nbsp;</strong></p>\\n<p>&nbsp;</p>\\n<p dir=\"rtl\" style=\"line-height: 1.2; margin-top: 0pt; margin-bottom: 0pt; text-align: right;\"><span style=\"font-size: 11pt; font-family: \\'Open Sans\\'; color: #000000; background-color: transparent; font-weight: 400; font-style: normal; font-variant: normal; text-decoration: none; vertical-align: baseline; white-space: pre-wrap;\">سعر الشاورما ٣٫٥ دينار تقريباً &nbsp;٤ دنانير.</span></p>\\n<p>&nbsp;</p>\\n<p dir=\"rtl\" style=\"line-height: 1.2; margin-top: 0pt; margin-bottom: 0pt; text-align: right;\"><span style=\"font-size: 11pt; font-family: \\'Open Sans\\'; color: #000000; background-color: transparent; font-weight: 400; font-style: normal; font-variant: normal; text-decoration: none; vertical-align: baseline; white-space: pre-wrap;\">وعصير الفواكه سعره ١٫٢٥ دينار تقريباً ١ دينار.</span></p>\\n<p>&nbsp;</p>\\n<p dir=\"rtl\" style=\"line-height: 1.2; margin-top: 0pt; margin-bottom: 0pt; text-align: right;\"><span style=\"font-size: 11pt; font-family: \\'Open Sans\\'; color: #000000; background-color: transparent; font-weight: 400; font-style: normal; font-variant: normal; text-decoration: none; vertical-align: baseline; white-space: pre-wrap;\">سعر الشاورما &nbsp;وعصير الفواكه تقريباً يساوي &nbsp;٤ + ١ = ٥ دنانير.</span></p>\\n<p>&nbsp;</p>\\n<p dir=\"rtl\" style=\"line-height: 1.2; margin-top: 0pt; margin-bottom: 0pt; text-align: right;\"><span style=\"font-size: 11pt; font-family: \\'Open Sans\\'; color: #000000; background-color: transparent; font-weight: 400; font-style: normal; font-variant: normal; text-decoration: none; vertical-align: baseline; white-space: pre-wrap;\">لدى عامر مبلغ ٥ دنانير إذاً تكفي.</span></p>\\n<p>&nbsp;</p>\\n<p><span style=\"font-size: 11pt; font-family: \\'Open Sans\\'; color: #000000; background-color: transparent; font-weight: 400; font-style: normal; font-variant: normal; text-decoration: none; vertical-align: baseline; white-space: pre-wrap;\">&nbsp;</span></p>',\n",
       " 'choice_type': 'select_one',\n",
       " 'choices': [{'item_id': '5a5480067dd197717bd484ff',\n",
       "   'title': 'Untitled',\n",
       "   'description': '<p dir=\"rtl\">نعم</p>',\n",
       "   'is_correct': True,\n",
       "   'feedback': None,\n",
       "   '_cls': 'FormElementChoice'},\n",
       "  {'item_id': '5a5480107dd197717c99aed6',\n",
       "   'title': 'Untitled',\n",
       "   'description': '<p dir=\"rtl\">لا</p>',\n",
       "   'is_correct': False,\n",
       "   'feedback': None,\n",
       "   '_cls': 'FormElementChoice'}],\n",
       " '_cls': 'Component.FormElement.AssessmentQuestion.MultipleChoiceQuestion',\n",
       " 'classification': ['Component',\n",
       "  'FormElement',\n",
       "  'AssessmentQuestion',\n",
       "  'MultipleChoiceQuestion'],\n",
       " 'component_type': 'MultipleChoiceQuestion',\n",
       " 'is_eligible': True,\n",
       " 'child_index': 0}"
      ]
     },
     "execution_count": 9,
     "metadata": {},
     "output_type": "execute_result"
    }
   ],
   "source": [
    "question = question_set_children[0]\n",
    "# for k in question.keys():\n",
    "#     print(k)\n",
    "question"
   ]
  },
  {
   "cell_type": "code",
   "execution_count": 12,
   "metadata": {},
   "outputs": [
    {
     "data": {
      "text/plain": [
       "{'id': '5a4c84377dd197090857ecf4',\n",
       " 'program': 15,\n",
       " 'parent_id': '5a4c84377dd197090857ecf3',\n",
       " 'title': 'السؤال الأول',\n",
       " 'accept_activity_after_due_datetime': False,\n",
       " 'deleted': False,\n",
       " 'full_description': '<p dir=\"rtl\" style=\"text-align: right;\"><span style=\"color: #000000; font-family: \\'Droid Arabic Naskh\\'; font-size: 12pt;\">القيمة المنزلية للرقم ٦ في العدد ١٦٤٥٣٠٩٨٧هي:</span></p>',\n",
       " 'listing_description': None,\n",
       " 'visibility': 'staff_and_teachers',\n",
       " 'children': [],\n",
       " 'created': '2018-01-03T07:20:23.951000',\n",
       " 'updated': '2018-01-18T11:54:39.441000',\n",
       " 'keywords': [],\n",
       " 'prerequisites': [],\n",
       " 'scaffolds': [],\n",
       " 'license': 'all_rights_reserved',\n",
       " 'audience': [],\n",
       " 'eligibility_criteria': [],\n",
       " 'non_eligible_view': 'hidden',\n",
       " 'gamification_points_on_completion': 0,\n",
       " 'quick_access_components': [],\n",
       " 'is_required': False,\n",
       " 'grade_weight': None,\n",
       " 'video_time': None,\n",
       " 'hints': None,\n",
       " 'explanation': None,\n",
       " 'correct_answer_precise': 60000000.0,\n",
       " 'correct_answer_range_from': None,\n",
       " 'correct_answer_range_to': None,\n",
       " 'answer_unit': None,\n",
       " 'enable_tolerance': False,\n",
       " '_cls': 'Component.FormElement.AssessmentQuestion.NumericResponseQuestion',\n",
       " 'classification': ['Component',\n",
       "  'FormElement',\n",
       "  'AssessmentQuestion',\n",
       "  'NumericResponseQuestion'],\n",
       " 'component_type': 'NumericResponseQuestion',\n",
       " 'is_eligible': True,\n",
       " 'child_index': 0}"
      ]
     },
     "execution_count": 12,
     "metadata": {},
     "output_type": "execute_result"
    }
   ],
   "source": [
    "question"
   ]
  },
  {
   "cell_type": "code",
   "execution_count": null,
   "metadata": {},
   "outputs": [],
   "source": []
  }
 ],
 "metadata": {
  "kernelspec": {
   "display_name": "Python 3",
   "language": "python",
   "name": "python3"
  },
  "language_info": {
   "codemirror_mode": {
    "name": "ipython",
    "version": 3
   },
   "file_extension": ".py",
   "mimetype": "text/x-python",
   "name": "python",
   "nbconvert_exporter": "python",
   "pygments_lexer": "ipython3",
   "version": "3.6.5"
  }
 },
 "nbformat": 4,
 "nbformat_minor": 2
}
